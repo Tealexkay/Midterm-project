{
  "nbformat": 4,
  "nbformat_minor": 0,
  "metadata": {
    "colab": {
      "provenance": [],
      "include_colab_link": true
    },
    "kernelspec": {
      "name": "python3",
      "display_name": "Python 3"
    },
    "language_info": {
      "name": "python"
    }
  },
  "cells": [
    {
      "cell_type": "markdown",
      "metadata": {
        "id": "view-in-github",
        "colab_type": "text"
      },
      "source": [
        "<a href=\"https://colab.research.google.com/github/Tealexkay/Midterm-project/blob/main/Day26_Introduction_to_ANOVA_Understanding_Group_Differences.ipynb\" target=\"_parent\"><img src=\"https://colab.research.google.com/assets/colab-badge.svg\" alt=\"Open In Colab\"/></a>"
      ]
    },
    {
      "cell_type": "markdown",
      "source": [
        "# Day 26: Introduction to ANOVA - Understanding Group Differences"
      ],
      "metadata": {
        "id": "c79NMFWdo7II"
      }
    },
    {
      "cell_type": "markdown",
      "source": [
        "Welcome to Day 26! Today, we’re diving into **ANOVA (Analysis of Variance)** — a powerful statistical tool used when comparing the means of three or more groups.\n",
        "\n",
        "In previous lessons, we've looked at comparing means between two groups using t-tests. But what if you have **three or more groups**? Running multiple t-tests increases the risk of false positives. That's where **ANOVA** comes in.\n",
        "\n",
        "By the end of this lesson, you will:\n",
        "\n",
        "-Understand the purpose of ANOVA and when to use it  \n",
        "- Learn about the assumptions behind ANOVA  \n",
        "- Visualize and compare group differences using boxplots  \n",
        "- Perform a one-way ANOVA in Python using real-world data  \n",
        "- Interpret the results to decide whether there are significant group differences  \n",
        "\n",
        "**Why this matters:**  \n",
        "Whether you're analyzing the impact of different teaching strategies, medical treatments, marketing campaigns, or product versions, ANOVA helps answer a fundamental question:  \n",
        "\n",
        "Let’s get started with exploring how this method works and when to use it.\n"
      ],
      "metadata": {
        "id": "Yw8hE_KcpASW"
      }
    },
    {
      "cell_type": "markdown",
      "source": [
        "## Quick Review from Previous Class  \n",
        "### Summary of Day 25 (A/B Testing and Statistical Comparison)\n",
        "\n",
        "In the last class, we focused on **A/B Testing** and its application for comparing two groups, particularly in business and marketing contexts:\n",
        "\n",
        "- Setting up **hypothesis tests** for A/B comparisons\n",
        "- Calculating **sample size and power** to detect differences\n",
        "- Implementing **t-tests** and **proportion tests** to analyze A/B test outcomes\n",
        "- Visualizing results to make clear and actionable conclusions\n",
        "\n",
        "We discussed:\n",
        "- The difference between **paired and unpaired tests** in A/B settings\n",
        "- How to correctly randomize and assign users to groups\n",
        "- Interpreting p-values and confidence intervals in A/B testing\n",
        "\n"
      ],
      "metadata": {
        "id": "8qXVftKEgdMs"
      }
    },
    {
      "cell_type": "markdown",
      "source": [
        "## Prepare the data\n",
        "\n",
        "We are working with a `Diet Study` dataset, which simulates a real-world weight loss intervention experiment.\n",
        "Each observation corresponds to an individual participant's health measurements and weight before and after undergoing a dietary program for six weeks.\n",
        "Our goal is to explore the effect of different diets on weight change and assess whether the observed differences are statistically significant.\n",
        "\n",
        "The dataset includes the following relevant columns:\n",
        "\n",
        "- Person: Unique identifier for each participant.\n",
        "\n",
        "- Gender: Binary indicator of gender (0 = Female, 1 = Male).\n",
        "\n",
        "- Age: Age of the participant in years.\n",
        "\n",
        "- Height: Participant’s height in centimeters.\n",
        "\n",
        "- pre.weight: Participant’s body weight before starting the diet, in kilograms.\n",
        "\n",
        "- Diet: Categorical variable indicating the diet group (1, 2, or 3), representing different dietary programs.\n",
        "\n",
        "- weight6weeks: Participant’s body weight after completing 6 weeks on the diet, in kilograms.\n",
        "\n",
        "Load the data into a variables called `diet`\n",
        "\n",
        "```python\n",
        "https://raw.githubusercontent.com/liger1apwm/MAT-301_Applied_Stats_Data_Analysis/refs/heads/main/data/Diet_R.csv\n",
        "```"
      ],
      "metadata": {
        "id": "yagDcNFxhgHF"
      }
    },
    {
      "cell_type": "markdown",
      "source": [
        "### Import the Libraries"
      ],
      "metadata": {
        "id": "6VpDxmOpkCtE"
      }
    },
    {
      "cell_type": "code",
      "source": [
        "import pandas as pd\n",
        "import seaborn as sns\n",
        "import matplotlib.pyplot as plt"
      ],
      "metadata": {
        "id": "grY03Ri_kFdA"
      },
      "execution_count": null,
      "outputs": []
    },
    {
      "cell_type": "markdown",
      "source": [
        "### Import the dataset"
      ],
      "metadata": {
        "id": "9LeNlMcxkKcC"
      }
    },
    {
      "cell_type": "code",
      "source": [
        "url = 'https://raw.githubusercontent.com/liger1apwm/MAT-301_Applied_Stats_Data_Analysis/refs/heads/main/data/Diet_R.csv'\n",
        "diet = pd.read_csv(url)\n",
        "diet.head()"
      ],
      "metadata": {
        "id": "VpHM_iaAgkBs"
      },
      "execution_count": null,
      "outputs": []
    },
    {
      "cell_type": "markdown",
      "source": [
        "Display the information for the dataset using the function .info()"
      ],
      "metadata": {
        "id": "ZwAE_wmgkY5D"
      }
    },
    {
      "cell_type": "code",
      "source": [],
      "metadata": {
        "id": "ULyGjAsJryhz"
      },
      "execution_count": null,
      "outputs": []
    },
    {
      "cell_type": "markdown",
      "source": [
        "Check the gender column and assess any issues within the column (discussion)"
      ],
      "metadata": {
        "id": "oS3g4GuWrpxC"
      }
    },
    {
      "cell_type": "code",
      "source": [],
      "metadata": {
        "id": "KLUcp53hrzkj"
      },
      "execution_count": null,
      "outputs": []
    },
    {
      "cell_type": "markdown",
      "source": [
        "### Data Preparation\n",
        "\n",
        "- Column Cleaning: Standardizes column names by removing spaces, converting to lowercase, and replacing periods with underscores.\n",
        "\n",
        "- Weight Loss Calculation: Adds a new column capturing each participant’s weight loss over 6 weeks.\n"
      ],
      "metadata": {
        "id": "BrUjjYr1khOZ"
      }
    },
    {
      "cell_type": "code",
      "source": [
        "# Clean column names (remove whitespace, lowercase, fix dots)\n",
        "diet.columns = diet.columns.str.strip().str.lower().str.replace('.', '_')\n",
        "\n",
        "# Calculate weight loss\n",
        "diet['weight_loss'] = diet['pre_weight'] - diet['weight6weeks']"
      ],
      "metadata": {
        "id": "TWku4mJFkhfX"
      },
      "execution_count": null,
      "outputs": []
    },
    {
      "cell_type": "markdown",
      "source": [
        "### Visualization\n",
        "\n",
        "- We will make a boxplot that shows the distribution of weight loss across diet groups, highlighting medians, variability, and outliers.\n",
        "\n",
        "- Interpretation: This plot helps visually compare how much weight was lost in each of the three diet groups."
      ],
      "metadata": {
        "id": "6CMpmC4rlWcM"
      }
    },
    {
      "cell_type": "code",
      "source": [
        "# Create the boxplot\n",
        "plt.figure(figsize=(8, 5))\n",
        "sns.boxplot(x='diet', y='weight_loss', hue='diet', data=diet, palette='pastel', legend=False)\n",
        "\n",
        "# Add titles and labels\n",
        "plt.title('Weight Loss by Diet Group (6 Weeks)', fontsize=14)\n",
        "plt.xlabel('Diet Group')\n",
        "plt.ylabel('Weight Loss (lbs)')\n",
        "plt.grid(axis='y', linestyle='--', alpha=0.7)\n",
        "\n",
        "plt.tight_layout()\n",
        "plt.show()"
      ],
      "metadata": {
        "id": "HhRf8Su2lQ1W"
      },
      "execution_count": null,
      "outputs": []
    },
    {
      "cell_type": "markdown",
      "source": [
        "We will use ANOVA to determine whether the type of diet plan has a statistically significant effect on weight loss. But first let's understand ANOVA."
      ],
      "metadata": {
        "id": "dAZuD8z0lqK-"
      }
    },
    {
      "cell_type": "markdown",
      "source": [
        "## 1. What Is ANOVA?\n",
        "ANOVA stands for Analysis of Variance. It's a statistical method used to compare the means of three or more groups to determine if at least one group mean is significantly different from the others.​\n",
        "\n",
        "Why not use multiple t-tests?\n",
        "\n",
        "Using multiple t-tests increases the risk of Type I errors (false positives). ANOVA controls this error rate, providing a more reliable comparison across multiple groups."
      ],
      "metadata": {
        "id": "R47gXJLspeJB"
      }
    },
    {
      "cell_type": "markdown",
      "source": [
        "## 2. When to Use ANOVA\n",
        "Use ANOVA when:\n",
        "\n",
        "- You have one categorical independent variable (e.g., teaching method) with three or more groups.\n",
        "\n",
        "- Your dependent variable is numerical (e.g., test scores).\n",
        "\n",
        "- You want to test the hypothesis: \"Are all group means equal?\""
      ],
      "metadata": {
        "id": "IbiOEf2QpmM7"
      }
    },
    {
      "cell_type": "markdown",
      "source": [
        "## 3. What Does ANOVA Do?\n",
        "ANOVA compares:\n",
        "\n",
        "- Between-group variability: Differences among the group means.\n",
        "\n",
        "- Within-group variability: Variability of observations within each group.​\n",
        "\n",
        "It calculates an F-statistic, which is the ratio of between-group variance to within-group variance. A higher F-value suggests a greater probability that at least one group mean is different."
      ],
      "metadata": {
        "id": "bQpS9KLIpq1B"
      }
    },
    {
      "cell_type": "markdown",
      "source": [
        "### 4. Assumptions of ANOVA\n",
        "Before applying ANOVA, ensure that:\n",
        "\n",
        "- Independence: Observations are independent within and across groups.\n",
        "\n",
        "- Normality: The data in each group are approximately normally distributed.\n",
        "\n",
        "- Homogeneity of variances: The variances among the groups are approximately equal."
      ],
      "metadata": {
        "id": "t2oTOeYEpyeE"
      }
    },
    {
      "cell_type": "markdown",
      "source": [
        "## 5. ANOVA (One-Way ANOVA) Application\n"
      ],
      "metadata": {
        "id": "C1t22qdSp6Ub"
      }
    },
    {
      "cell_type": "markdown",
      "source": [
        "**One-Way ANOVA** (Analysis of Variance) is a statistical technique used to determine whether the **means of three or more independent groups** are significantly different. It is used when you have **one independent categorical variable** with **two or more levels** and **one continuous dependent variable**.\n",
        "\n",
        "### Why Use One-Way ANOVA Instead of Multiple T-Tests?  \n",
        "Using multiple t-tests increases the risk of **Type I error** (false positives). ANOVA overcomes this by comparing **all group means simultaneously**, thus controlling the error rate.\n",
        "\n",
        "\n",
        "To perform a one-way ANOVA in Python, we use the `f_oneway` function from the `scipy.stats` module.\n",
        "\n",
        "```python\n",
        "from scipy.stats import f_oneway\n",
        "\n",
        "```\n",
        "\n",
        "What does f_oneway do?\n",
        "f_oneway performs a one-way ANOVA test.\n",
        "\n",
        "- It compares the means of two or more independent groups to determine if there is a statistically significant difference among them.\n",
        "\n",
        "- It returns two values:\n",
        "  -  F-statistic: A number that indicates the ratio of variance between the groups to the variance within the groups.\n",
        "\n",
        "  - p-value: Tells us whether the observed differences between group means are statistically significant.\n",
        "\n",
        "Example:\n",
        "```python\n",
        "f_stat, p_value = f_oneway(group1, group2, group3)\n",
        "\n",
        "```\n",
        "\n",
        "Here, group1, group2, and group3 are arrays or lists of numerical values (e.g., test scores) from different groups.\n",
        "\n",
        "----\n",
        "\n",
        "#### Hypotheses for One-Way ANOVA (Comparing Customer Satisfaction Across Party Sizes)\n",
        "\n",
        "Null Hypothesis (H₀): The mean customer satisfaction is the same across all party sizes.\n",
        "$$H_0: \\mu_1 = \\mu_2 = \\mu_3 = \\dots = \\mu_k$$\n",
        "\t•\tAlternative Hypothesis (H₁): At least one party size group has a different mean customer satisfaction compared to the others.\n",
        "$$H_1: \\text{At least one } \\mu_i \\text{ differs from the others}$$\n",
        "\n",
        "Interpretation:\n",
        "- If p_value < 0.05: There is a statistically significant difference between at least one pair of group means.\n",
        "\n",
        "- If p_value >= 0.05: We do not have enough evidence to say the group means are different.\n"
      ],
      "metadata": {
        "id": "E6SeYhmAqe6H"
      }
    },
    {
      "cell_type": "markdown",
      "source": [
        "We will create the groups and run ANOVA to interpret the results!"
      ],
      "metadata": {
        "id": "miBhjA88mQxE"
      }
    },
    {
      "cell_type": "code",
      "source": [
        "from scipy.stats import f_oneway\n",
        "\n",
        "# Group the data by 'diet' and collect the 'weight_loss' values\n",
        "groups = diet.groupby('diet')['weight_loss'].apply(list)\n",
        "\n",
        "\n",
        "# Run one-way ANOVA\n",
        "f_stat, p_value = f_oneway(*groups)\n",
        "\n",
        "# Display results\n",
        "print(f\"F-statistic: {f_stat:.2f}\")\n",
        "print(f\"p-value: {p_value:.4f}\")"
      ],
      "metadata": {
        "id": "LXUSvZ29DBsp"
      },
      "execution_count": null,
      "outputs": []
    },
    {
      "cell_type": "markdown",
      "source": [
        " Interpretation:\n",
        "\n",
        "- Since the p-value is less than 0.05, we reject the null hypothesis.\n",
        "- There is a statistically significant difference in weight loss between at least one pair of diet groups."
      ],
      "metadata": {
        "id": "tAv82BQUCyD9"
      }
    },
    {
      "cell_type": "markdown",
      "source": [
        "### 6. What’s Next If ANOVA Is Significant?\n",
        "ANOVA indicates that at least one group mean is different but doesn't specify which groups differ.​\n",
        "\n",
        "Next step:\n",
        "- Perform a post-hoc test, such as Tukey’s Honest Significant Difference (HSD), to identify which specific group means differ.​"
      ],
      "metadata": {
        "id": "UYJoVmsyJgm1"
      }
    },
    {
      "cell_type": "markdown",
      "source": [
        "\n",
        "\n",
        "To perform post-hoc analysis after a significant ANOVA result, we use the `pairwise_tukeyhsd` function from the `statsmodels` library.\n",
        "\n",
        "```python\n",
        "from statsmodels.stats.multicomp import pairwise_tukeyhsd\n",
        "```\n",
        "\n",
        "What is pairwise_tukeyhsd?\n",
        "- This function performs Tukey’s Honest Significant Difference (HSD) test, a post-hoc test used after ANOVA.\n",
        "\n",
        "- It checks all possible pairwise comparisons between group means to identify which ones are significantly different.\n",
        "\n",
        "- It controls for Type I error across multiple comparisons (also known as FWER — Familywise Error Rate)."
      ],
      "metadata": {
        "id": "UsCm2G9VLVcP"
      }
    },
    {
      "cell_type": "code",
      "source": [
        "from statsmodels.stats.multicomp import pairwise_tukeyhsd"
      ],
      "metadata": {
        "id": "x80oSn3-JtzC"
      },
      "execution_count": null,
      "outputs": []
    },
    {
      "cell_type": "code",
      "source": [
        "# Run Tukey's HSD test\n",
        "tukey_result = pairwise_tukeyhsd(endog=diet['weight_loss'],\n",
        "                                 groups=diet['diet'],\n",
        "                                 alpha=0.05)\n",
        "\n",
        "# Print the result\n",
        "print(tukey_result)"
      ],
      "metadata": {
        "id": "eG456q-mJbsp"
      },
      "execution_count": null,
      "outputs": []
    },
    {
      "cell_type": "markdown",
      "source": [
        "#### Interpretation:\n",
        "\n",
        "- There is **no significant difference** in weight loss between **Diet 1 and Diet 2**.\n",
        "- **Diet 3 leads to significantly more weight loss** compared to both **Diet 1** and **Diet 2**.\n",
        "- The results suggest that **Diet 3 may be the most effective** in terms of weight reduction over the 6-week period.\n",
        "\n",
        "#### Conclusion:\n",
        "Tukey’s HSD helps pinpoint **which groups are different**, not just that a difference exists. This is essential when an ANOVA test is significant."
      ],
      "metadata": {
        "id": "CuWUY0FILDdf"
      }
    },
    {
      "cell_type": "markdown",
      "source": [
        "#### **Try it yourself:**\n",
        "\n"
      ],
      "metadata": {
        "id": "3dBM9rfX0WZ6"
      }
    },
    {
      "cell_type": "markdown",
      "source": [
        "Using the same restaurant transaction dataset used in the notebook from day 24:"
      ],
      "metadata": {
        "id": "mVklTTh23W24"
      }
    },
    {
      "cell_type": "code",
      "source": [
        "tips_data = pd.read_csv(\"https://raw.githubusercontent.com/liger1apwm/MAT-301_Applied_Stats_Data_Analysis/refs/heads/main/data/tips_feedback.csv\")\n",
        "\n",
        "day_mapping = {\"Fri\":\"Friday\",\n",
        "               \"Sat\":\"Saturday\",\n",
        "               \"Mon\":\"Monday\",\n",
        "               \"Thur\":\"Thursday\",\n",
        "               \"Tues\":\"Tuesday\",\n",
        "               \"Weds\":\"Wednesday\",\n",
        "               \"Sun\":\"Sunday\"\n",
        "}\n",
        "\n",
        "tips_data['day'] = tips_data['day'].map(day_mapping)\n",
        "\n",
        "tips_data.head()"
      ],
      "metadata": {
        "id": "1r_dhgle02DA"
      },
      "execution_count": null,
      "outputs": []
    },
    {
      "cell_type": "markdown",
      "source": [
        "The restaurant management wants to determine whether customer satisfaction varies depending on the party size. They hypothesize that larger groups may have a different dining experience compared to smaller groups, potentially affecting satisfaction scores.\n",
        "\n",
        "Research Question:\n",
        "Is there a statistically significant difference in customer satisfaction based on the size of the party?"
      ],
      "metadata": {
        "id": "XTefPVTd4aDo"
      }
    },
    {
      "cell_type": "code",
      "source": [],
      "metadata": {
        "id": "oZS6vvJC1Z8_"
      },
      "execution_count": null,
      "outputs": []
    },
    {
      "cell_type": "markdown",
      "source": [
        "<details><summary>Answer:</summary>\n",
        "\n",
        "```python\n",
        "# Group the data by 'size' and collect the 'satisfaction' values into lists\n",
        "groups = tips_data.groupby('size')['satisfaction'].apply(list)\n",
        "\n",
        "# Run one-way ANOVA\n",
        "f_stat, p_value = f_oneway(*groups)\n",
        "\n",
        "# Display results\n",
        "print(f\"F-statistic: {f_stat:.2f}\")\n",
        "print(f\"P-value: {p_value:.4f}\")\n",
        "```\n",
        "</details>"
      ],
      "metadata": {
        "id": "Az-7iYkX58jl"
      }
    },
    {
      "cell_type": "markdown",
      "source": [
        "Use the Tukey’s Honest Significant Difference (HSD) test to verify your previous results:"
      ],
      "metadata": {
        "id": "e6pHWAUN6GjW"
      }
    },
    {
      "cell_type": "code",
      "source": [],
      "metadata": {
        "id": "EnUERe3T3jly"
      },
      "execution_count": null,
      "outputs": []
    },
    {
      "cell_type": "markdown",
      "source": [
        "<details><summary>Answer:</summary>\n",
        "\n",
        "```python\n",
        "# Run Tukey's HSD test\n",
        "tukey_result = pairwise_tukeyhsd(endog=tips_data['satisfaction'],\n",
        "                                 groups=tips_data['size'],\n",
        "                                 alpha=0.05)\n",
        "\n",
        "# Print the result\n",
        "```\n",
        "</details>"
      ],
      "metadata": {
        "id": "U1TZkMxC5_7V"
      }
    },
    {
      "cell_type": "markdown",
      "source": [
        "### 7. Summary: Understanding ANOVA\n",
        "\n",
        "- **ANOVA (Analysis of Variance)** is a statistical method used to compare the means of **three or more groups**.\n",
        "\n",
        "- It tests the **null hypothesis** that all group means are equal, by analyzing the ratio of **between-group variability** to **within-group variability**.\n",
        "\n",
        "- A **significant ANOVA result** (p < 0.05) indicates that **at least one group mean is different**, but it does **not** tell us which specific groups differ.\n",
        "\n",
        "- **Key Assumptions** to check before applying ANOVA:\n",
        "  - **Independence**: Observations in each group should be independent.\n",
        "  - **Normality**: Data in each group should be approximately normally distributed.\n",
        "  - **Homogeneity of variance**: Variances across groups should be similar.\n",
        "\n",
        "- If the ANOVA result is significant, use **post-hoc tests** like **Tukey’s HSD** to determine **which pairs of group means differ significantly**.\n",
        "\n",
        "- ANOVA helps avoid the increased Type I error risk that comes with running multiple t-tests across several groups.\n"
      ],
      "metadata": {
        "id": "Z9CQCzCbLp04"
      }
    }
  ]
}