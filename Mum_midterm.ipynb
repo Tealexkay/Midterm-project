{
  "nbformat": 4,
  "nbformat_minor": 0,
  "metadata": {
    "colab": {
      "provenance": []
    },
    "kernelspec": {
      "name": "python3",
      "display_name": "Python 3"
    },
    "language_info": {
      "name": "python"
    }
  },
  "cells": [
    {
      "cell_type": "code",
      "execution_count": 24,
      "metadata": {
        "id": "EmUlg77ZlEF4"
      },
      "outputs": [],
      "source": [
        "\n",
        "import pandas as pd\n",
        "import numpy as np"
      ]
    },
    {
      "cell_type": "markdown",
      "source": [
        "# New Section"
      ],
      "metadata": {
        "id": "UJJu9BxIoZpo"
      }
    },
    {
      "cell_type": "code",
      "source": [
        "from google.colab import drive\n",
        "drive.mount('/content/drive/')"
      ],
      "metadata": {
        "colab": {
          "base_uri": "https://localhost:8080/"
        },
        "id": "FeqXJHieSoip",
        "outputId": "9b0f907a-6ea7-481e-b849-b6ad70c84825"
      },
      "execution_count": 25,
      "outputs": [
        {
          "output_type": "stream",
          "name": "stdout",
          "text": [
            "Drive already mounted at /content/drive/; to attempt to forcibly remount, call drive.mount(\"/content/drive/\", force_remount=True).\n"
          ]
        }
      ]
    },
    {
      "cell_type": "code",
      "source": [
        "import pandas as pd\n",
        "\n",
        "heart_db = pd.read_csv('/content/drive/MyDrive//heart.csv')\n",
        "\n"
      ],
      "metadata": {
        "id": "uxO_8DgIUWoF"
      },
      "execution_count": 26,
      "outputs": []
    },
    {
      "cell_type": "markdown",
      "source": [
        "preview a few rows."
      ],
      "metadata": {
        "id": "V5DK2D94JDGg"
      }
    },
    {
      "cell_type": "code",
      "source": [
        "# Inspect Data Types\n",
        "print(heart_db.dtypes)"
      ],
      "metadata": {
        "id": "wKYGKbZkY7bb",
        "colab": {
          "base_uri": "https://localhost:8080/"
        },
        "outputId": "cda242a1-087f-4d2b-bb59-6a53b43eb380"
      },
      "execution_count": 27,
      "outputs": [
        {
          "output_type": "stream",
          "name": "stdout",
          "text": [
            "Age                 int64\n",
            "Sex                object\n",
            "ChestPainType      object\n",
            "RestingBP           int64\n",
            "Cholesterol         int64\n",
            "FastingBS           int64\n",
            "RestingECG         object\n",
            "MaxHR               int64\n",
            "ExerciseAngina     object\n",
            "Oldpeak           float64\n",
            "ST_Slope           object\n",
            "HeartDisease        int64\n",
            "dtype: object\n"
          ]
        }
      ]
    },
    {
      "cell_type": "markdown",
      "source": [],
      "metadata": {
        "id": "OEgRculTaNQ2"
      }
    },
    {
      "cell_type": "markdown",
      "source": [
        "All data are in order."
      ],
      "metadata": {
        "id": "2psFT1rcaNNg"
      }
    },
    {
      "cell_type": "code",
      "source": [
        "# there is no missing value found\n",
        "heart_db.isnull().sum()\n"
      ],
      "metadata": {
        "id": "T-f_3DQGZqIQ",
        "colab": {
          "base_uri": "https://localhost:8080/",
          "height": 460
        },
        "outputId": "0509f034-9194-4f4b-e738-5b50e0ab627b"
      },
      "execution_count": 28,
      "outputs": [
        {
          "output_type": "execute_result",
          "data": {
            "text/plain": [
              "Age               0\n",
              "Sex               0\n",
              "ChestPainType     0\n",
              "RestingBP         0\n",
              "Cholesterol       0\n",
              "FastingBS         0\n",
              "RestingECG        0\n",
              "MaxHR             0\n",
              "ExerciseAngina    0\n",
              "Oldpeak           0\n",
              "ST_Slope          0\n",
              "HeartDisease      0\n",
              "dtype: int64"
            ],
            "text/html": [
              "<div>\n",
              "<style scoped>\n",
              "    .dataframe tbody tr th:only-of-type {\n",
              "        vertical-align: middle;\n",
              "    }\n",
              "\n",
              "    .dataframe tbody tr th {\n",
              "        vertical-align: top;\n",
              "    }\n",
              "\n",
              "    .dataframe thead th {\n",
              "        text-align: right;\n",
              "    }\n",
              "</style>\n",
              "<table border=\"1\" class=\"dataframe\">\n",
              "  <thead>\n",
              "    <tr style=\"text-align: right;\">\n",
              "      <th></th>\n",
              "      <th>0</th>\n",
              "    </tr>\n",
              "  </thead>\n",
              "  <tbody>\n",
              "    <tr>\n",
              "      <th>Age</th>\n",
              "      <td>0</td>\n",
              "    </tr>\n",
              "    <tr>\n",
              "      <th>Sex</th>\n",
              "      <td>0</td>\n",
              "    </tr>\n",
              "    <tr>\n",
              "      <th>ChestPainType</th>\n",
              "      <td>0</td>\n",
              "    </tr>\n",
              "    <tr>\n",
              "      <th>RestingBP</th>\n",
              "      <td>0</td>\n",
              "    </tr>\n",
              "    <tr>\n",
              "      <th>Cholesterol</th>\n",
              "      <td>0</td>\n",
              "    </tr>\n",
              "    <tr>\n",
              "      <th>FastingBS</th>\n",
              "      <td>0</td>\n",
              "    </tr>\n",
              "    <tr>\n",
              "      <th>RestingECG</th>\n",
              "      <td>0</td>\n",
              "    </tr>\n",
              "    <tr>\n",
              "      <th>MaxHR</th>\n",
              "      <td>0</td>\n",
              "    </tr>\n",
              "    <tr>\n",
              "      <th>ExerciseAngina</th>\n",
              "      <td>0</td>\n",
              "    </tr>\n",
              "    <tr>\n",
              "      <th>Oldpeak</th>\n",
              "      <td>0</td>\n",
              "    </tr>\n",
              "    <tr>\n",
              "      <th>ST_Slope</th>\n",
              "      <td>0</td>\n",
              "    </tr>\n",
              "    <tr>\n",
              "      <th>HeartDisease</th>\n",
              "      <td>0</td>\n",
              "    </tr>\n",
              "  </tbody>\n",
              "</table>\n",
              "</div><br><label><b>dtype:</b> int64</label>"
            ]
          },
          "metadata": {},
          "execution_count": 28
        }
      ]
    },
    {
      "cell_type": "markdown",
      "source": [
        "# Their is no null value within my database"
      ],
      "metadata": {
        "id": "epuz2e24aY-D"
      }
    },
    {
      "cell_type": "markdown",
      "source": [
        "Their is no duplicate value found.\n"
      ],
      "metadata": {
        "id": "DSXKdgWciqDX"
      }
    },
    {
      "cell_type": "markdown",
      "source": [],
      "metadata": {
        "id": "j1akgEz4L7fG"
      }
    },
    {
      "cell_type": "markdown",
      "source": [
        "•Briefly explain in markdown which cleaning steps you took and why."
      ],
      "metadata": {
        "id": "26LJv2YcMX5S"
      }
    },
    {
      "cell_type": "markdown",
      "source": [
        "# Loading the Data\n",
        "   Loaded the dataset using (pd.read_csv('heart.csv')\n",
        "   Why? To convert the CSV file into a Pandas Data Frame for further processing.\n",
        "\n",
        "# Handling Missing Values\n",
        "There is no value missing from my data\n",
        "   Why? Missing data can lead to inaccurate analysis.\n",
        "\n",
        "# Removing Duplicates\n",
        "No duplicate value. Why? Duplicate entries can skew the analysis by over-representing certain data points.\n",
        "\n",
        "# Data Type Conversion\n",
        "   Why? Ensuring that each column has the correct data type is crucial for accurate computations and analyses.\n"
      ],
      "metadata": {
        "id": "VkTtKaCnIPdg"
      }
    },
    {
      "cell_type": "markdown",
      "source": [],
      "metadata": {
        "id": "YfRTZ2JwIOqq"
      }
    },
    {
      "cell_type": "code",
      "source": [
        "# Question (1) What is the average age of the patients in the dataset?\n",
        "\n",
        "Age_mean = heart_db['Age'].mean().round(2),\n",
        "Age_median = heart_db['Age'].median(),\n",
        "Age_mode = heart_db['Age'].mode().round(2)\n",
        "\n",
        "print(f'the overall heart mean is {Age_mean}')\n",
        "\n",
        "print(f'the overall heart median is {Age_median}')\n",
        "print(f'the overall heart mode is {Age_mode}')\n",
        "\n"
      ],
      "metadata": {
        "id": "Wolii3V5x6WO",
        "colab": {
          "base_uri": "https://localhost:8080/"
        },
        "outputId": "775807a0-b927-484c-a631-3ea5bb8cbcb0"
      },
      "execution_count": 29,
      "outputs": [
        {
          "output_type": "stream",
          "name": "stdout",
          "text": [
            "the overall heart mean is (np.float64(53.51),)\n",
            "the overall heart median is (54.0,)\n",
            "the overall heart mode is 0    54\n",
            "Name: Age, dtype: int64\n"
          ]
        }
      ]
    },
    {
      "cell_type": "code",
      "source": [
        "#Question (2) What is the most common cholesterol level among the patients?\n",
        "\n",
        "Cholesterol_mean = heart_db['Cholesterol'].mean().round(2),\n",
        "Cholesterol_median = heart_db['Cholesterol'].median(),\n",
        "Cholesterol_mode = heart_db['Cholesterol'].mode().round(2)\n",
        "\n",
        "print(f'the overall heart mean is {Cholesterol_mean}')\n",
        "\n",
        "print(f'the overall heart median is {Cholesterol_median}')\n",
        "print(f'the overall heart mode is {Cholesterol_mode}')\n",
        "\n",
        "\n"
      ],
      "metadata": {
        "id": "iWslSPB24e0U",
        "colab": {
          "base_uri": "https://localhost:8080/"
        },
        "outputId": "b589cefb-ba83-449d-8490-89851ff1f51c"
      },
      "execution_count": 30,
      "outputs": [
        {
          "output_type": "stream",
          "name": "stdout",
          "text": [
            "the overall heart mean is (np.float64(198.8),)\n",
            "the overall heart median is (223.0,)\n",
            "the overall heart mode is 0    0\n",
            "Name: Cholesterol, dtype: int64\n"
          ]
        }
      ]
    },
    {
      "cell_type": "code",
      "source": [
        "#Question (3) What is the average resting blood pressure (RestingBP) of the patient?\n",
        "\n",
        "RestingBP_mean = heart_db['RestingBP'].mean().round(2),\n",
        "RestingBP_median = heart_db['RestingBP'].median(),\n",
        "RestingBP_mode = heart_db['RestingBP'].mode().round(2)\n",
        "\n",
        "print(f'the overall heart mean is {RestingBP_mean}')\n",
        "\n",
        "print(f'the overall heart median is {RestingBP_median}')\n",
        "print(f'the overall heart mode is {RestingBP_mode}')\n"
      ],
      "metadata": {
        "id": "7US_X1xF4rGo",
        "colab": {
          "base_uri": "https://localhost:8080/"
        },
        "outputId": "9af550a8-e7ba-450e-e169-b19270ed8a16"
      },
      "execution_count": 31,
      "outputs": [
        {
          "output_type": "stream",
          "name": "stdout",
          "text": [
            "the overall heart mean is (np.float64(132.4),)\n",
            "the overall heart median is (130.0,)\n",
            "the overall heart mode is 0    120\n",
            "Name: RestingBP, dtype: int64\n"
          ]
        }
      ]
    },
    {
      "cell_type": "code",
      "source": [
        "# 1. How much do patient ages vary in the dataset?\n",
        "\n",
        "std_sample = heart_db['Age'].std(),  # sample std dev (ddof=1)\n",
        "\n",
        "variance_sample = heart_db['Age'].var(), # sample variance\n",
        "\n",
        "Age_range = heart_db['Age'].max() - heart_db['Age'].min(), # range\n",
        "\n",
        "Q1 = heart_db['Age'].quantile(0.25)\n",
        "Q3 = heart_db['Age'].quantile(0.75)\n",
        "IQR = Q3 - Q1\n",
        "\n",
        "print(\"Sample Standard Deviation (ddof=1):\", std_sample)\n",
        "\n",
        "print(\"Sample Variance (ddof=1):\", variance_sample)\n",
        "\n",
        "print(f\"Range of 'Age' column: {Age_range}\"),\n",
        "\n",
        "print(f\"Q1 (25th percentile): {Q1}\")\n",
        "print(f\"Q3 (75th percentile): {Q3}\")\n",
        "print(f\"Interquartile Range (IQR): {IQR}\")"
      ],
      "metadata": {
        "id": "XtmrUyflHuGV",
        "colab": {
          "base_uri": "https://localhost:8080/"
        },
        "outputId": "60b44aef-2364-4f7a-ba55-4f2d70faddf8"
      },
      "execution_count": 32,
      "outputs": [
        {
          "output_type": "stream",
          "name": "stdout",
          "text": [
            "Sample Standard Deviation (ddof=1): (9.432616506732007,)\n",
            "Sample Variance (ddof=1): (88.97425416307314,)\n",
            "Range of 'Age' column: (49,)\n",
            "Q1 (25th percentile): 47.0\n",
            "Q3 (75th percentile): 60.0\n",
            "Interquartile Range (IQR): 13.0\n"
          ]
        }
      ]
    },
    {
      "cell_type": "code",
      "source": [
        "#2. How much variation is observed in cholesterol levels?\n",
        "\n",
        "std_sample = heart_db['Cholesterol'].std(),  # sample std dev (ddof=1)\n",
        "\n",
        "variance_sample = heart_db['Cholesterol'].var(), # sample variance\n",
        "\n",
        "Cholesterol_range = heart_db['Cholesterol'].max() - heart_db['Cholesterol'].min(), # range\n",
        "\n",
        "Q1 = heart_db['Cholesterol'].quantile(0.25)\n",
        "Q3 = heart_db['Cholesterol'].quantile(0.75)\n",
        "IQR = Q3 - Q1\n",
        "\n",
        "print(\"Sample Standard Deviation (ddof=1):\", std_sample)\n",
        "\n",
        "print(\"Sample Variance (ddof=1):\", variance_sample)\n",
        "\n",
        "print(f\"Range of 'Cholesterol' column: {Cholesterol_range}\"),\n",
        "\n",
        "print(f\"Q1 (25th percentile): {Q1}\")\n",
        "print(f\"Q3 (75th percentile): {Q3}\")\n",
        "print(f\"Interquartile Range (IQR): {IQR}\")"
      ],
      "metadata": {
        "colab": {
          "base_uri": "https://localhost:8080/"
        },
        "id": "qEE4DZyJ_zK3",
        "outputId": "f09f43ee-a150-4f55-c005-b15893b79490"
      },
      "execution_count": 33,
      "outputs": [
        {
          "output_type": "stream",
          "name": "stdout",
          "text": [
            "Sample Standard Deviation (ddof=1): (109.38414455220337,)\n",
            "Sample Variance (ddof=1): (11964.891079417323,)\n",
            "Range of 'Cholesterol' column: (603,)\n",
            "Q1 (25th percentile): 173.25\n",
            "Q3 (75th percentile): 267.0\n",
            "Interquartile Range (IQR): 93.75\n"
          ]
        }
      ]
    }
  ]
}