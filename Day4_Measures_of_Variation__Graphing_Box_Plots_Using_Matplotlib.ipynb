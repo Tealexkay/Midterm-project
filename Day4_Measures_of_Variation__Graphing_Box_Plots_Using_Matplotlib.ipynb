{
  "nbformat": 4,
  "nbformat_minor": 0,
  "metadata": {
    "colab": {
      "provenance": [],
      "include_colab_link": true
    },
    "kernelspec": {
      "name": "python3",
      "display_name": "Python 3"
    },
    "language_info": {
      "name": "python"
    }
  },
  "cells": [
    {
      "cell_type": "markdown",
      "metadata": {
        "id": "view-in-github",
        "colab_type": "text"
      },
      "source": [
        "<a href=\"https://colab.research.google.com/github/Tealexkay/Midterm-project/blob/main/Day4_Measures_of_Variation__Graphing_Box_Plots_Using_Matplotlib.ipynb\" target=\"_parent\"><img src=\"https://colab.research.google.com/assets/colab-badge.svg\" alt=\"Open In Colab\"/></a>"
      ]
    },
    {
      "cell_type": "markdown",
      "metadata": {
        "id": "JrVat7FVDRE8"
      },
      "source": [
        "# Day 4: Measures of Variation - Graphing Box Plots Using Matplotlib\n",
        "\n",
        "In today’s session, we will build on our understanding of **measures of central tendency** and move into exploring **measures of variation**. We’ll cover how to quantify **data spread** using **range**, **variance**, and **standard deviation**.\n",
        "\n",
        "We will also introduce **Chebyshev’s Theorem** as a tool for detecting **outliers** and learn how to visualize **data distribution** using **box and whisker plots**. Finally, we’ll connect our statistical insights to summary statistics provided by **`.describe()`** and discuss their **real-world applications**."
      ]
    },
    {
      "cell_type": "markdown",
      "metadata": {
        "id": "kgET3aagDRE9"
      },
      "source": [
        "## 1. Quick Review from Previous Class\n",
        "- **Recap of key topics**: Wrangling data and exploring measures of central tendency.\n",
        "- **Using `pandas.astype()`**: Converting data types to ensure consistency in analysis.\n",
        "- **Sorting and Grouping Data**: Techniques for organizing and summarizing datasets.\n",
        "- **Using the `.describe()` Function**: Generating summary statistics to understand data distribution.\n",
        "- **Review of Measures of Central Tendency**: Understanding **median**, **mode**, and **trimmed mean** as ways to summarize data and calculate them using python."
      ]
    },
    {
      "cell_type": "markdown",
      "metadata": {
        "id": "x-FHMJFvDRE-"
      },
      "source": [
        "## 2. What Are Measures of Variation?\n",
        "- **Definition**: Quantify how spread out or dispersed data values are.\n",
        "- **Importance**: Understanding data spread is crucial for risk assessment, data comparison, and identifying outliers.\n",
        "- **Common measures**: Range, Variance, Standard Deviation.\n",
        "  - **Range**: Maximum - Minimum.\n",
        "  - **Variance**: Average of squared deviations from the mean.\n",
        "  - **Standard Deviation**: Square root of the variance.\n",
        "  - **Interquartile Range (IQR)**: Difference between the 75th percentile (Q3) and the 25th percentile (Q1), measuring the spread of the middle 50% of the data.  "
      ]
    },
    {
      "cell_type": "markdown",
      "metadata": {
        "id": "hB-J9eSKDRE-"
      },
      "source": [
        "### 2.1 Range\n",
        "- **Concept**: The simplest measure of variation, calculated as the **difference between the maximum and minimum** values.\n",
        "- **Strengths**:\n",
        "  - Very easy to compute.\n",
        "- **Weaknesses**:\n",
        "  - Very sensitive to outliers (a single extreme value can distort it).\n",
        "- **Interpretation**: A quick snapshot of how wide the data is spread."
      ]
    },
    {
      "cell_type": "markdown",
      "source": [
        "**NOTE:** we will continue using the same nfl suspensions dataset as day 3, the following cell will load the dataframe and clean it."
      ],
      "metadata": {
        "id": "jkknJoiXcrQy"
      }
    },
    {
      "cell_type": "code",
      "execution_count": null,
      "metadata": {
        "id": "zerbfaJ5DRE-"
      },
      "outputs": [],
      "source": [
        "import pandas as pd\n",
        "\n",
        "nfl_suspension_df = pd.read_csv(\"https://raw.githubusercontent.com/liger1apwm/MAT-301_Applied_Stats_Data_Analysis/refs/heads/main/data/nfl-suspensions-data.csv\")\n",
        "\n",
        "# Select relevant columns\n",
        "nfl_suspension_df = nfl_suspension_df[['name', 'team', 'games', 'category', 'year']]\n",
        "\n",
        "# Remove rows where 'games' is 'Indef.'\n",
        "nfl_suspension_df = nfl_suspension_df[nfl_suspension_df['games'] != \"Indef.\"]\n",
        "\n",
        "\n",
        "# Convert remaining columns to the correct types\n",
        "nfl_suspension_df = nfl_suspension_df.astype({\n",
        "    'name': 'string',\n",
        "    'team': 'string',\n",
        "    'games': 'int16',\n",
        "    'category': 'string',\n",
        "    'year':'int16'\n",
        "})\n",
        "\n",
        "# Reset index\n",
        "nfl_suspension_df = nfl_suspension_df.reset_index(drop=True)\n",
        "\n",
        "nfl_suspension_df"
      ]
    },
    {
      "cell_type": "markdown",
      "source": [
        "**Now lets calculate the range for the column `games`:**"
      ],
      "metadata": {
        "id": "U-mHKVhRevla"
      }
    },
    {
      "cell_type": "code",
      "source": [
        "games_range = nfl_suspension_df['games'].max() - nfl_suspension_df['games'].min()\n",
        "\n",
        "print(f\"Range of 'games' column: {games_range}\")"
      ],
      "metadata": {
        "id": "Sn5hgiNee2Vn"
      },
      "execution_count": null,
      "outputs": []
    },
    {
      "cell_type": "markdown",
      "metadata": {
        "id": "DANBNd8hDRE-"
      },
      "source": [
        "### 2.2 Variance\n",
        "- **Concept**: The average of squared deviations from the mean.\n",
        "- **Formula** (sample Variance):\n",
        "  $\n",
        "  s^2 = \\frac{\\sum_{i=1}^{n}(x_i - \\bar{x})^2}{n-1}\n",
        "  $\n",
        "  (For a population, we  use $\\mu$ as the mean and $(N)$ in the denominator instead.)\n",
        "- **Significance**: Tells us how data points spread out from the mean. A higher variance means more spread.\n",
        "- **Use cases**: Comparing dispersion in different datasets."
      ]
    },
    {
      "cell_type": "code",
      "execution_count": null,
      "metadata": {
        "id": "vRom-RjhDRE_"
      },
      "outputs": [],
      "source": [
        "variance_sample = nfl_suspension_df['games'].var()  # sample variance\n",
        "variance_population = nfl_suspension_df['games'].var(ddof=0)  # population variance\n",
        "\n",
        "print(\"Sample Variance (ddof=1):\", variance_sample)\n",
        "print(\"Population Variance (ddof=0):\", variance_population)"
      ]
    },
    {
      "cell_type": "markdown",
      "source": [
        "**Note**: ddof stands for Delta Degrees of Freedom, which represents the adjustment made to the degrees of freedom in statistical calculations."
      ],
      "metadata": {
        "id": "NVT0kWCPlI-X"
      }
    },
    {
      "cell_type": "markdown",
      "metadata": {
        "id": "6wFAPOtjDRE_"
      },
      "source": [
        "### 2.3 Standard Deviation\n",
        "- **Concept**: The square root of the variance. It brings the measure of spread back to the original units of the data.\n",
        "- **Importance**: Easier to interpret in real-world terms compared to the variance.\n",
        "- **Real-world applications**:  \n",
        "  - **Finance**: Measures market volatility—higher values indicate greater risk.  \n",
        "  - **Quality Control**: Detects inconsistencies in manufacturing processes.  \n",
        "  - **Education**: Evaluates score dispersion in exams to assess performance variability.  \n",
        "  - **Healthcare**: Analyzes patient response variability in clinical studies.  \n",
        "  - **Sports & Weather**: Tracks performance consistency and climate fluctuations over time.  \n",
        "\n",
        "similar to Variance,Standard deviation quantifies **how much data deviates from the mean**, making it essential for understanding **variability and consistency** in different fields.  "
      ]
    },
    {
      "cell_type": "code",
      "execution_count": null,
      "metadata": {
        "id": "5cMHoWcMDRE_"
      },
      "outputs": [],
      "source": [
        "# Standard Deviation in pandas\n",
        "std_sample = nfl_suspension_df['games'].std()  # sample std dev (ddof=1)\n",
        "std_population = nfl_suspension_df['games'].std(ddof=0)  # population std dev\n",
        "\n",
        "print(\"Sample Standard Deviation (ddof=1):\", std_sample)\n",
        "print(\"Population Standard Deviation (ddof=0):\", std_population)"
      ]
    },
    {
      "cell_type": "markdown",
      "source": [
        "### 2.3 Interquartile Range (IQR)\n",
        "- **Concept**: The **Interquartile Range (IQR)** measures the spread of the **middle 50%** of a dataset. It is the difference between the **third quartile (Q3)** and the **first quartile (Q1)**.  \n",
        "\n",
        "- **Formula**:  \n",
        "  $$ \\text{IQR} = Q3 - Q1 $$  \n",
        "\n",
        "  where:  \n",
        "  - \\( Q1 \\) (25th percentile) is the median of the lower half of the data.  \n",
        "  - \\( Q3 \\) (75th percentile) is the median of the upper half of the data.  \n",
        "\n",
        "- **Significance**:  \n",
        "  - Less sensitive to outliers than range and standard deviation.  \n",
        "  - Useful for detecting **outliers**, where potential outliers are defined as values less than the lower bound or greater than the upper bound by using this formulas to calculate the bounds:  \n",
        "    $$ \\text{Lower Bound} = Q1 - 1.5 \\times \\text{IQR} $$  \n",
        "    $$ \\text{Upper Bound} = Q3 + 1.5 \\times \\text{IQR} $$  \n",
        "\n",
        "- **Use cases**:  \n",
        "  - Identifying extreme values in datasets.  \n",
        "  - Summarizing dispersion without being affected by outliers.  \n",
        "  - Comparing data distributions in different groups.  "
      ],
      "metadata": {
        "id": "4DPe-Heyb6g1"
      }
    },
    {
      "cell_type": "code",
      "source": [
        "# Calculate Q1, Q3, and IQR\n",
        "Q1 = nfl_suspension_df['games'].quantile(0.25)\n",
        "Q3 = nfl_suspension_df['games'].quantile(0.75)\n",
        "IQR = Q3 - Q1\n",
        "\n",
        "print(f\"Q1 (25th percentile): {Q1}\")\n",
        "print(f\"Q3 (75th percentile): {Q3}\")\n",
        "print(f\"Interquartile Range (IQR): {IQR}\")"
      ],
      "metadata": {
        "id": "khIzR0IDb6xt"
      },
      "execution_count": null,
      "outputs": []
    },
    {
      "cell_type": "markdown",
      "source": [
        "Let’s display all the `games` suspension values and check if they look close."
      ],
      "metadata": {
        "id": "3QIeF2pEfTAu"
      }
    },
    {
      "cell_type": "code",
      "source": [
        "print(*sorted(nfl_suspension_df['games']))"
      ],
      "metadata": {
        "id": "yBnrWGQefNv4"
      },
      "execution_count": null,
      "outputs": []
    },
    {
      "cell_type": "markdown",
      "metadata": {
        "id": "qxGqyCNGDRE_"
      },
      "source": [
        "## 3. Chebyshev’s Theorem and Outlier Identification\n",
        "\n",
        "- **Chebyshev’s Theorem**: States that for any dataset (without assuming normality), at least  \n",
        "  $$ 1 - \\frac{1}{k^2} $$  \n",
        "  of the data values lie within \\( k \\) standard deviations of the mean.\n",
        "\n",
        "- **Example**: For \\( k = 2 \\), at least  \n",
        "  $$ 1 - \\frac{1}{4} = 0.75 \\text{ (75%)} $$  \n",
        "  of values are within 2 standard deviations of the mean.\n",
        "\n",
        "- **Role**: Useful for **non-normal distributions** to identify potential outliers. Potential outliers are defined as values less than the lower bound or greater than the upper bound and using this formulas to calculate the bounds:  \n",
        "    $$ \\text{Lower Bound} = \\bar{x} - k \\cdot s $$  \n",
        "    $$ \\text{Upper Bound} = \\bar{x} + k \\cdot s $$  \n",
        "\n",
        "- **Advantages**: More general than the **Empirical Rule**, which requires normality.\n",
        "\n",
        "- **Limitations**: Often provides a **wider range** than the Empirical Rule, potentially **overestimating** spread for certain distributions."
      ]
    },
    {
      "cell_type": "code",
      "source": [
        "# Define k (number of standard deviations)\n",
        "k = 3\n",
        "\n",
        "# Calculate mean and standard deviation\n",
        "mean_games = nfl_suspension_df['games'].mean()\n",
        "std_dev_games = nfl_suspension_df['games'].std()\n",
        "\n",
        "# Compute the bounds using Chebyshev's theorem\n",
        "lower_bound = mean_games - k * std_dev_games\n",
        "upper_bound = mean_games + k * std_dev_games\n",
        "\n",
        "# Identify potential outliers (values outside the bounds)\n",
        "outliers = nfl_suspension_df[(nfl_suspension_df['games'] < lower_bound) | (nfl_suspension_df['games'] > upper_bound)]\n",
        "\n",
        "# Display results\n",
        "print(f\"Mean: {mean_games:.2f}\")\n",
        "print(f\"Standard Deviation: {std_dev_games:.2f}\")\n",
        "print(f\"Percentage of data within {k} std dev: {(1-(1/(k**2)))*100:.2f}% \")\n",
        "print(f\"Lower Bound: {lower_bound:.2f}\")\n",
        "print(f\"Upper Bound: {upper_bound:.2f}\")\n",
        "print(\"\\nPotential Outliers:\")\n",
        "display(outliers)"
      ],
      "metadata": {
        "id": "BjZJ8GNdnf2P"
      },
      "execution_count": null,
      "outputs": []
    },
    {
      "cell_type": "markdown",
      "metadata": {
        "id": "LmxkvznjDRE_"
      },
      "source": [
        "## 4. Box and Whisker Plots Using Python with Outliers\n",
        "- **Purpose of Box Plots**:\n",
        "  - Quickly visualize data spread, median, and potential outliers.\n",
        "- **What is matplotlib?**\n",
        "  - A popular Python library for creating static, animated, and interactive visualizations.\n",
        "- **How to create a box plot**:\n",
        "  - Use `plt.boxplot()` from the `matplotlib.pyplot` module. Usually we import this library with the alias plt like this:</br> `import matplotlib.pyplot as plt`\n",
        "- **Components**:\n",
        "  - **Minimum** (excluding outliers)\n",
        "  - **Q1** (25th percentile)\n",
        "  - **Median** (50th percentile)\n",
        "  - **Q3** (75th percentile)\n",
        "  - **Maximum** (excluding outliers)\n",
        "  - **Outliers** (plotted as individual points)\n",
        "- **Real-world examples**: Comparing multiple groups, summarizing how each group’s data is distributed.\n",
        "\n",
        "**Remember**: Google Colab comes with several packages, such as pandas, numpy, and matplotlib, pre-installed. However, if you’re working in other IDEs, you may need to install these packages first."
      ]
    },
    {
      "cell_type": "markdown",
      "source": [
        "Lets first do a Box and Whiskers plot with Outliers"
      ],
      "metadata": {
        "id": "ypI23HgNp2hG"
      }
    },
    {
      "cell_type": "code",
      "source": [
        "# Import necessary libraries\n",
        "import matplotlib.pyplot as plt  # For plotting\n",
        "import numpy as np  # For numerical operations\n",
        "\n",
        "# Create a figure with a specified size (width=10 inches, height=5 inches)\n",
        "plt.figure(figsize=(10, 5))\n",
        "\n",
        "# Create a horizontal box plot of the \"games\" column from nfl_suspension_df\n",
        "plt.boxplot(nfl_suspension_df['games'],\n",
        "            vert=False,          # Makes the box plot horizontal\n",
        "            patch_artist=True,   # Fills the box with color\n",
        "            whis=[0, 100])       # Includes all data points in whiskers (no outliers removed)\n",
        "\n",
        "# Set the title of the plot\n",
        "plt.title(\"Box Plot of Games Suspended (Without Outliers)\")\n",
        "\n",
        "# Label the x-axis to indicate the values represent suspended games\n",
        "plt.xlabel(\"Games Suspended\")\n",
        "\n",
        "# Determine the minimum and maximum values of the \"games\" column\n",
        "min_games = int(nfl_suspension_df['games'].min())  # Convert min value to integer\n",
        "max_games = int(nfl_suspension_df['games'].max())  # Convert max value to integer\n",
        "\n",
        "# Set custom x-axis ticks at an interval of 2 (from min_games to max_games)\n",
        "plt.xticks(np.arange(min_games, max_games + 1, 2))\n",
        "\n",
        "# Display the final box plot\n",
        "plt.show()"
      ],
      "metadata": {
        "id": "2VDzV1hfp644"
      },
      "execution_count": null,
      "outputs": []
    },
    {
      "cell_type": "markdown",
      "source": [
        "With outliers:"
      ],
      "metadata": {
        "id": "y_V6G2AudqVR"
      }
    },
    {
      "cell_type": "code",
      "execution_count": null,
      "metadata": {
        "id": "aeCBki4ADRFA"
      },
      "outputs": [],
      "source": [
        "# change the size of the figure\n",
        "plt.figure(figsize=(10, 5))\n",
        "plt.boxplot(nfl_suspension_df['games'],\n",
        "            vert=False,          # Makes the box plot horizontal instead of vertical\n",
        "            patch_artist=True)   # Fills the box with color for better visualization\n",
        "\n",
        "plt.title(\"Box Plot of Games Suspended (With Outliers)\")\n",
        "plt.xlabel(\"Games Suspended\")\n",
        "\n",
        "min_games = int(nfl_suspension_df['games'].min())\n",
        "max_games = int(nfl_suspension_df['games'].max())\n",
        "plt.xticks(np.arange(min_games, max_games + 1, 2))\n",
        "\n",
        "plt.show()"
      ]
    },
    {
      "cell_type": "markdown",
      "metadata": {
        "id": "s50qNVj8DRFA"
      },
      "source": [
        "## 5. Relation Between Box Plot and `.describe()`\n",
        "- `df.describe()` gives us:\n",
        "  1. **count**\n",
        "  2. **mean**\n",
        "  3. **std** (standard deviation)\n",
        "  4. **min**\n",
        "  5. **25%** (Q1)\n",
        "  6. **50%** (median)\n",
        "  7. **75%** (Q3)\n",
        "  8. **max**\n",
        "- These statistics directly relate to the box plot components (Q1, median, Q3, min, max, and outliers)."
      ]
    },
    {
      "cell_type": "code",
      "execution_count": null,
      "metadata": {
        "id": "jd1SyG2SDRFA"
      },
      "outputs": [],
      "source": [
        "df_description = nfl_suspension_df['games'].describe()\n",
        "df_description"
      ]
    },
    {
      "cell_type": "markdown",
      "source": [
        "Notice that the box plot is just reflecting on the values provided by the describe function"
      ],
      "metadata": {
        "id": "yHLsw4kGveLk"
      }
    },
    {
      "cell_type": "markdown",
      "source": [
        "Let's try to use describe in the whole dataframe:"
      ],
      "metadata": {
        "id": "86Z8zWRSu0Ex"
      }
    },
    {
      "cell_type": "code",
      "source": [
        "nfl_suspension_df.describe(include=\"all\")"
      ],
      "metadata": {
        "id": "pLE60fsau4ag"
      },
      "execution_count": null,
      "outputs": []
    },
    {
      "cell_type": "markdown",
      "source": [
        "## 6. Box and Whisker Plots Based on Categories Within a Column  \n",
        "\n",
        "When grouped by categories within a column, it allows for **comparisons between different groups**.\n",
        "\n",
        "\n",
        "### **Why Group Box Plots by Category?**  \n",
        "Grouping box plots by **categories within a column** helps in:\n",
        "- **Comparing distributions** across different groups.  \n",
        "- **Identifying variability** within each category.  \n",
        "- **Detecting outliers** that may indicate anomalies in specific groups.  \n",
        "- **Understanding trends** and how different factors influence numerical values.\n",
        "\n",
        "###  **Example Use Case: Suspensions in the NFL**  \n",
        "If we plot **suspension length (`games`) grouped by category (`team`)**, we can analyze:  \n",
        "- Which **team** tend to have **longer suspensions**.  \n",
        "- How much **variation** exists in suspension lengths for different rule violations.  \n",
        "- Whether certain categories have **outliers**, indicating extreme cases.  \n",
        "\n"
      ],
      "metadata": {
        "id": "Tqe63myB3wH_"
      }
    },
    {
      "cell_type": "code",
      "source": [
        "\n",
        "plt.figure(figsize=(10, 5))\n",
        "ax = nfl_suspension_df.boxplot(column='games', by='team', figsize=(12, 8))\n",
        "\n",
        "# Rotate x-axis labels for better readability\n",
        "plt.xticks(rotation=45, ha='right')  # Rotates labels and aligns them to the right\n",
        "\n",
        "\n",
        "plt.title(\"Box Plot of Games Suspended by Team\")\n",
        "plt.suptitle(\"\")  # Removes the default 'Boxplot grouped by category' title\n",
        "plt.xlabel(\"Team\")\n",
        "plt.ylabel(\"Games Suspended\")\n",
        "plt.show()"
      ],
      "metadata": {
        "id": "GjLPPj8r3yig"
      },
      "execution_count": null,
      "outputs": []
    },
    {
      "cell_type": "markdown",
      "source": [
        "###  **Interpreting the Plot**  \n",
        "- A **wide box** suggests a **high variation** in suspension lengths within that category.  \n",
        "- A **high median line** means players in that category typically receive **longer suspensions**.  \n",
        "- **Outliers** beyond the whiskers indicate **exceptionally long or short suspensions** compared to the norm.  \n",
        "\n",
        "By grouping boxplots by team, we can analyze the distribution of `games`suspended across different `teams`, providing insights into how disciplinary actions vary. This visualization helps identify trends, such as which teams have players with longer or more frequent suspensions, potential outliers, and overall consistency in enforcement."
      ],
      "metadata": {
        "id": "REnDqU8z7qkM"
      }
    },
    {
      "cell_type": "markdown",
      "metadata": {
        "id": "pxMJrKFjDRFA"
      },
      "source": [
        "## 9. Summary and Questions\n",
        "- **Recap key points**:\n",
        "  1. **Range**: Simple but sensitive to outliers.\n",
        "  2. **Variance** and **Standard Deviation**: Crucial for understanding spread.\n",
        "  3. **Interquartile Range (IQR)**: Measures the middle 50% of data, reducing the impact of outliers.\n",
        "  3. **Chebyshev’s Theorem**: A general rule for data spread within \\(k\\) std deviations.\n",
        "  4. **Box Plots**: Powerful visual for identifying outliers and understanding distribution.\n",
        "- **Identify outliers**: Both Chebyshev’s theorem (theoretical bound) and box plots (practical visualization) help.\n",
        "- **Combine numerical summaries and visuals**: Use `.describe()` and **box plots** together.\n",
        "\n",
        "**Questions?** Feel free to ask for more examples or clarifications on any of these concepts."
      ]
    }
  ]
}