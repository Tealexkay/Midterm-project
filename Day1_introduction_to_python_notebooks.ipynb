{
  "nbformat": 4,
  "nbformat_minor": 0,
  "metadata": {
    "colab": {
      "provenance": [],
      "toc_visible": true,
      "include_colab_link": true
    },
    "kernelspec": {
      "name": "python3",
      "display_name": "Python 3"
    },
    "language_info": {
      "name": "python"
    }
  },
  "cells": [
    {
      "cell_type": "markdown",
      "metadata": {
        "id": "view-in-github",
        "colab_type": "text"
      },
      "source": [
        "<a href=\"https://colab.research.google.com/github/Tealexkay/Midterm-project/blob/main/Day1_introduction_to_python_notebooks.ipynb\" target=\"_parent\"><img src=\"https://colab.research.google.com/assets/colab-badge.svg\" alt=\"Open In Colab\"/></a>"
      ]
    },
    {
      "cell_type": "markdown",
      "source": [
        "# 1. Introduction to Python\n",
        "\n",
        "Python is a popular programming language, and it is used to tell computers what to do. It is simple, easy to understand, and is one of the best choices for beginners who want to learn how to code. Python was created in the early 1990s by Guido van Rossum, and today it is used by millions of people around the world to create websites, analyze data, and even make games!\n",
        "\n",
        "## 1.1 What is a Programming Language?\n",
        "\n",
        "A programming language is like a set of instructions we give to a computer so that it can do something for us. Imagine you want to tell a friend how to bake a cake. You would give them a list of steps to follow, like mixing ingredients and baking in the oven. Python works in a similar way—it helps us give a computer step-by-step instructions to solve problems or create something new.\n",
        "\n",
        "## 1.2 Why is Python Special?\n",
        "\n",
        "  - **Easy to Read and Write**: Python looks a lot like normal English, which makes it easy for beginners to understand. Unlike some other programming languages, Python doesn’t require a lot of complex symbols, which makes learning to code less overwhelming.\n",
        "\n",
        "  - **Great for Many Things**: People use Python to create websites, work with data, make games, and even control robots. It’s used in many areas because it’s very flexible.\n",
        "\n",
        "  - **Lots of Helpful Tools**: Python comes with a lot of helpful tools that are already built-in. This means you don’t have to create everything from scratch—you can use what others have already made to make your work easier.\n",
        "\n",
        "  - **Runs on Any Computer**: Whether you have a Windows, Mac, or Linux computer, Python will work on all of them without needing major changes. Also there are a lot of online services that will allow you to run python online like the one we are using called google collab.\n",
        "\n",
        "## 1.3 What Can You Do with Python?\n",
        "\n",
        "- **Create Websites**: Python can be used to create websites that people use every day, like online stores or blogs.\n",
        "- **Analyze Data**: Python is also used to look at data to understand patterns. For example, scientists use Python to study weather data.\n",
        "- **Automate Repetitive Tasks**: Python can help automate boring, repetitive tasks, like organizing files or sending emails.\n",
        "- **Make Simple Games**: If you like games, Python has tools to help you make your own simple games.\n",
        "- **Artificial Intelligence**: Python's frameworks make it easy to create AI and machine learning models for predictive analytics, natural language processing, and more.\n"
      ],
      "metadata": {
        "id": "UWf8TBairouF"
      }
    },
    {
      "cell_type": "markdown",
      "source": [
        "# 2. How to use Python to print text using Google Colab\n",
        "\n",
        "Google Colab (or Colaboratory) is a free online tool provided by Google that allows you to write and run Python code directly in your web browser. It’s great for beginners because you don’t need to install anything on your computer. Here’s how you can use Google Colab to print a phrase:\n",
        "\n",
        "## 2.1 Step-by-Step Instructions\n",
        "\n",
        "### Step 1: Open Google Colab\n",
        "1. Go to [Google Colab](https://colab.research.google.com) in your web browser.\n",
        "2. You may need to sign in with your Google account if you aren't already signed in.\n",
        "\n",
        "### Step 2: Create a New Notebook\n",
        "1. Once on the Google Colab page, click on **\"New Notebook\"** in the bottom-right corner, or click **\"File\" > \"New notebook\"** from the menu. A new page will open up with a space where you can write your code. You can also choose to save a copy of a existing notebook in your google drive by clicking **\"File\" > \"Save a copy in drive\"**.\n",
        "2. The \"notebook\" is the environment where you can write and run Python code.\n",
        "\n",
        "### Step 3: Write Your Code\n",
        "1. In the new notebook, you will see a code cell (a box where you can write code).\n",
        "2. Click inside the code cell and type the following code:\n",
        "```\n",
        "print(\"Hello, World!\")\n",
        "```\n",
        "3. Click Connect in the top right to initiate a connection to a cloud runtime, allowing you to execute code within your notebook.Then click on the play button on the left of the code cell."
      ],
      "metadata": {
        "id": "bVyUi9cBtfk1"
      }
    },
    {
      "cell_type": "code",
      "execution_count": null,
      "metadata": {
        "id": "tZSKILKDri2Q"
      },
      "outputs": [],
      "source": [
        "print(\"Hello, World!\")"
      ]
    },
    {
      "cell_type": "markdown",
      "source": [
        "Now, try changing the sentance inside the quotations with anything you would like the output to show and run it again:"
      ],
      "metadata": {
        "id": "Qj9RwcUOvus7"
      }
    },
    {
      "cell_type": "code",
      "source": [],
      "metadata": {
        "id": "L4UXbIiuwCM7"
      },
      "execution_count": null,
      "outputs": []
    },
    {
      "cell_type": "markdown",
      "source": [
        "# 3. Variables\n",
        "\n",
        "Variables are symbols or names that hold values, allowing us to store and manipulate data that can change.\n",
        "\n",
        "## In Mathematics\n",
        "\n",
        "- **Definition**: A variable represents an unknown or changeable quantity.\n",
        "- **Example**:\n",
        "\n",
        "x + 3 = 7 \\\n",
        "⇒ x = 4\n",
        "\n",
        "## In Programming\n",
        "\n",
        "- **Definition**: A variable is a named location in memory that stores data.\n",
        "- **Example in Python**:\n",
        "\n",
        "```python\n",
        "age = 30\n",
        "name = \"Alex\"\n",
        "is_member = True\n",
        "```\n",
        "\n",
        "## Why Are Variables Important?\n",
        "\n",
        "- **Flexibility**: They allow programs and equations to handle different inputs.\n",
        "- **Clarity**: Meaningful variable names make code and formulas easier to understand.\n",
        "- **Data Manipulation**: Enable storing and updating information dynamically."
      ],
      "metadata": {
        "id": "N-kf8691wC9t"
      }
    },
    {
      "cell_type": "markdown",
      "source": [
        "# 4. Datatypes in Python\n",
        "\n",
        "In programming, **variables** are used to store different types of data. The **datatype** of a variable refers to the kind of value it holds and how that value is stored in memory. Below is a list of the most commonly used datatypes in Python:\n",
        "\n",
        "- **Integer (`int`)**: Represents whole numbers, both positive and negative (e.g., -5, 0, 42).\n",
        "- **Float (`float`)**: Represents decimal numbers, also known as floating-point numbers (e.g., 3.14, -0.001, 2.0).\n",
        "- **String (`str`)**: Represents sequences of characters or text (e.g., \"Hello, World!\").\n",
        "- **Boolean (`bool`)**: Represents binary values that are either `True` or `False`.\n",
        "- **List (`list`)**: An ordered collection of items that can hold multiple values of different types (e.g., `[1, 2, 3]`, `[\"apple\", \"banana\", \"cherry\"]`).\n",
        "- **Dictionary (`dict`)**: An unordered collection of key-value pairs (e.g., `{\"name\": \"Alice\", \"age\": 25}`).\n",
        "- **Tuple (`tuple`)**: An ordered, immutable collection of items (e.g., `(1, 2, 3)`).\n",
        "- **Set (`set`)**: An unordered collection of unique items (e.g., `{1, 2, 3}`).\n",
        "\n",
        "Python is a **dynamically typed language**, meaning that variables do not require an explicit declaration of their datatype. The interpreter infers the datatype automatically based on the value assigned to the variable. This feature makes Python more flexible and often easier to use compared to **statically typed languages**, where datatypes must be declared explicitly.\n",
        "\n",
        "For example:\n",
        "\n",
        "```python\n",
        "x = 42           # Integer\n",
        "y = 3.14         # Float\n",
        "name = \"Alice\"   # String\n",
        "is_active = True # Boolean\n",
        "```"
      ],
      "metadata": {
        "id": "O76XeA-oNXoA"
      }
    },
    {
      "cell_type": "markdown",
      "source": [
        "Now, let's create two variables called `num1` and `num2`, and set them equal to `2` and `3`, respectively.\n",
        "\n",
        "First, try to run the variables by themselves in your Python code and observe what happens. Then, use the following line to display their values on the screen:\n",
        ":\n",
        "\n",
        "```\n",
        "print(\"the first number is \",num1,\" and the second number is \",num2)\n",
        "```"
      ],
      "metadata": {
        "id": "NDZgjUaCFn5f"
      }
    },
    {
      "cell_type": "code",
      "source": [],
      "metadata": {
        "id": "cE7hb1lpql7R"
      },
      "execution_count": null,
      "outputs": []
    },
    {
      "cell_type": "markdown",
      "source": [
        "<details><summary>Answer:</summary>\n",
        "<code>\n",
        "num1 = 2 </br>\n",
        "num2 = 3 </br>\n",
        "print(\"the first number is \",num1,\" and the second number is \",num2) </br>\n",
        "</code>\n",
        "</details>"
      ],
      "metadata": {
        "id": "tacu_ROAIG2i"
      }
    },
    {
      "cell_type": "markdown",
      "source": [
        "what is different when you do it without the print line and after you include it?"
      ],
      "metadata": {
        "id": "UYQ6KHMHRNSm"
      }
    },
    {
      "cell_type": "markdown",
      "source": [
        "# 5. Functions\n",
        "\n",
        "As you can see in the previous example, we used `print()` to display content on the screen. The `print()` function is one of many built-in functions available in Python.\n",
        "\n",
        "A **function** is a block of reusable code that performs a specific task. Functions allow us to write more organized, efficient, and readable code by grouping related operations together. In Python, functions can take **inputs (called parameters)** and return **outputs (called return values)**.\n",
        "\n",
        "Here’s an example of using a built-in function (`len()`) to find the length of a string:\n",
        "\n",
        "```python\n",
        "text = \"Hello, World!\"\n",
        "print(len(text))  # Output: 13\n",
        "```\n",
        "you can try this piece of code in the cell block below:"
      ],
      "metadata": {
        "id": "Mt6pvvfIQQtz"
      }
    },
    {
      "cell_type": "code",
      "source": [],
      "metadata": {
        "id": "b6Is7MxiQaON"
      },
      "execution_count": null,
      "outputs": []
    },
    {
      "cell_type": "markdown",
      "source": [
        "NOTE: The text in green with a # symbol in front are called **comments**. **Comments** are notes that Python will ignore when running the code. They are useful as a note-taking tool to explain what your code does or to leave reminders for yourself and others.\n",
        "\n",
        "### 5.1 Key Points About Functions\n",
        "\n",
        "- Functions can take **parameters** (input values).\n",
        "- Functions can **return** values after processing.\n",
        "- Functions help make your code more **structured**, **modular**, and **reusable**.\n",
        "\n",
        "Python provides many **built-in functions**, but you can also create your own to fit your specific needs.\n",
        "\n"
      ],
      "metadata": {
        "id": "y3kyBWVIPOWX"
      }
    },
    {
      "cell_type": "markdown",
      "source": [
        "### 5.2 Example of a Custom Function\n",
        "\n",
        "Let's create a function called `add_numbers()` that takes two numbers as input, adds them together, and returns the result:"
      ],
      "metadata": {
        "id": "Nu1Q8LHwVw2e"
      }
    },
    {
      "cell_type": "code",
      "source": [
        "# Defining the function\n",
        "def add_numbers(a, b):\n",
        "    return a + b\n",
        "\n",
        "# Calling the function\n",
        "result = add_numbers(5, 3)\n",
        "print(result)  # Output: 8"
      ],
      "metadata": {
        "id": "VlOsWjtNQaH4"
      },
      "execution_count": null,
      "outputs": []
    },
    {
      "cell_type": "markdown",
      "source": [
        "Remember the previous example where you were given this line:\n",
        "```\n",
        "print(\"the first number is \",num1,\" and the second number is \",num2\")\n",
        "```\n",
        "The `print()` function allows you to pass multiple **strings** or **variables**, separated by commas, and it will display them all together on the screen. Another example of this is the following:\n"
      ],
      "metadata": {
        "id": "pBGjQkaMZfiE"
      }
    },
    {
      "cell_type": "code",
      "source": [
        "first_name = \"Eric\"\n",
        "last_name = \"Aragundi\"\n",
        "class_number = 301\n",
        "\n",
        "print(\"this is MAT\",class_number,\",with prof.\",first_name,last_name)"
      ],
      "metadata": {
        "id": "16g0nZ90amqk"
      },
      "execution_count": null,
      "outputs": []
    },
    {
      "cell_type": "markdown",
      "source": [
        "### 5.3 Explanation of the Custom Function\n",
        "\n",
        "In this example:\n",
        "\n",
        "- The function `add_numbers()` takes two parameters: `a` and `b`.\n",
        "- It returns the sum of the two numbers using the `return` statement.\n",
        "- The function is called with the values `5` and `3`, and the result (`8`) is printed on the screen.\n",
        "\n",
        "You can modify this function to perform other operations, such as subtraction, multiplication, or more complex tasks. Functions are a powerful way to make your code more efficient and reusable!"
      ],
      "metadata": {
        "id": "g2RrJSGlUd_7"
      }
    },
    {
      "cell_type": "markdown",
      "source": [
        "### 5.4 Using f-Strings\n",
        "\n",
        "In Python, you can use **f-strings** to format strings in a more readable and efficient way. f-strings were introduced in Python 3.6 and allow you to directly embed variables within a string.\n",
        "\n",
        "**Syntax Example:**\n",
        "```python\n",
        "print(f\"the first number is  {num1} and the second number is  {num2}\")\n",
        "```\n",
        "\n",
        "lets print the previous the example and see how it looks like:"
      ],
      "metadata": {
        "id": "j_asdBfuXPVh"
      }
    },
    {
      "cell_type": "code",
      "source": [],
      "metadata": {
        "id": "TDavaEcHZu3q"
      },
      "execution_count": null,
      "outputs": []
    },
    {
      "cell_type": "markdown",
      "source": [
        "**NOTE:** If you are encountering errors in this cell, go back to the previous cells and ensure that `num1` and `num2` were created properly.\n",
        "\n",
        "**f-strings** also allow you to format outputs in specific ways, such as displaying numbers with only two decimal places or adding fixed spaces in front of the values. We will discuss these formatting options as needed throughout the future lessons."
      ],
      "metadata": {
        "id": "PE6EkDjRfJBr"
      }
    },
    {
      "cell_type": "markdown",
      "source": [
        "# 6. Basic Math Operations in Python\n",
        "\n",
        "Python can be used like a calculator to perform various math operations. Here are some of the basic operations you can try:\n",
        "\n",
        "1. **Addition (`+`)**: Adds two numbers together.\n",
        "   \n",
        "   `result = 5 + 3  # Output: 8`\n",
        "\n",
        "2. **Subtraction (`-`)**: Subtracts one number from another.\n",
        "   \n",
        "   `result = 10 - 4  # Output: 6`\n",
        "\n",
        "3. **Multiplication (`*`)**: Multiplies two numbers.\n",
        "   \n",
        "   `result = 6 * 7  # Output: 42`\n",
        "\n",
        "4. **Division (`/`)**: Divides one number by another. The result is a float (decimal).\n",
        "   \n",
        "   `result = 15 / 3  # Output: 5.0`\n",
        "\n",
        "5. **Exponentiation (`**`)**: Raises one number to the power of another.\n",
        "   \n",
        "   `result = 2 ** 3  # Output: 8 (2 to the power of 3)`\n",
        "\n",
        "6. **Modulus (`%`)**: Returns the remainder when one number is divided by another.\n",
        "   \n",
        "   `result = 10 % 3  # Output: 1 (remainder when 10 is divided by 3)`\n",
        "\n",
        "7. **Floor Division (`//`)**: Divides one number by another and returns the integer (whole number) result.\n",
        "   \n",
        "   `result = 15 // 2  # Output: 7`\n",
        "\n",
        "\n",
        "Now lets see the math operations using our previous variables num1 and num2:\n"
      ],
      "metadata": {
        "id": "Pyx4smzCDbBH"
      }
    },
    {
      "cell_type": "code",
      "source": [
        "\n",
        "# Addition\n",
        "addition_result = num1 + num2\n",
        "print(f\"Addition: {num1} + {num2} = {addition_result}\")\n",
        "\n",
        "# Subtraction\n",
        "subtraction_result = num1 - num2\n",
        "print(f\"Subtraction: {num1} - {num2} = {subtraction_result}\")\n",
        "\n",
        "# Multiplication\n",
        "multiplication_result = num1 * num2\n",
        "print(f\"Multiplication: {num1} * {num2} = {multiplication_result}\")\n",
        "\n",
        "# Division\n",
        "division_result = num1 / num2\n",
        "print(f\"Division: {num1} / {num2} = {division_result}\")\n",
        "\n",
        "# Exponentiation\n",
        "exponentiation_result = num1 ** num2\n",
        "print(f\"Exponentiation: {num1} ** {num2} = {exponentiation_result}\")\n",
        "\n",
        "# Modulus\n",
        "modulus_result = num1 % num2\n",
        "print(f\"Modulus: {num1} % {num2} = {modulus_result}\")\n",
        "\n",
        "# Floor Division\n",
        "floor_division_result = num1 // num2\n",
        "print(f\"Floor Division: {num1} // {num2} = {floor_division_result}\")"
      ],
      "metadata": {
        "id": "HpRn0PMZDcYt"
      },
      "execution_count": null,
      "outputs": []
    },
    {
      "cell_type": "markdown",
      "source": [
        "\n",
        "Try experimenting with these operations in the next code cell to see how they work!"
      ],
      "metadata": {
        "id": "RVMZounADct-"
      }
    },
    {
      "cell_type": "code",
      "source": [],
      "metadata": {
        "id": "wBsV_gt4QK9g"
      },
      "execution_count": null,
      "outputs": []
    },
    {
      "cell_type": "code",
      "source": [],
      "metadata": {
        "id": "tJjmMcRLDlkJ"
      },
      "execution_count": null,
      "outputs": []
    },
    {
      "cell_type": "markdown",
      "source": [
        "# 7. Comparison and Logical Operators\n",
        "\n",
        "In Python, we often need to compare values and make decisions based on certain conditions. Python provides **comparison operators** and **logical operators** to help us with this.\n",
        "\n",
        "### Comparison Operators\n",
        "These operators compare two values and return a **boolean** result (`True` or `False`):\n",
        "\n",
        "- `==` : Equal to\n",
        "- `!=` : Not equal to\n",
        "- `>`  : Greater than\n",
        "- `<`  : Less than\n",
        "- `>=` : Greater than or equal to\n",
        "- `<=` : Less than or equal to\n",
        "\n",
        "**Example:**\n"
      ],
      "metadata": {
        "id": "Ecroul9cDEQm"
      }
    },
    {
      "cell_type": "code",
      "source": [
        "a = 10\n",
        "b = 5\n",
        "\n",
        "print(a == b)   # False\n",
        "print(a != b)   # True\n",
        "print(a > b)    # True\n",
        "print(a < b)    # False"
      ],
      "metadata": {
        "id": "_x5wHZchDWbD"
      },
      "execution_count": null,
      "outputs": []
    },
    {
      "cell_type": "markdown",
      "source": [
        "### Logical Operators\n",
        "\n",
        "Logical operators combine multiple conditions:\n",
        "-\t**and** : Returns True if both conditions are true.\n",
        "-\t**or**  : Returns True if at least one condition is true.\n",
        "-\t**not** : Reverses the result (returns True if the condition is false).\n",
        "\n",
        "**Example:**"
      ],
      "metadata": {
        "id": "5rDal0MvDjpq"
      }
    },
    {
      "cell_type": "code",
      "source": [
        "x = 7\n",
        "y = 10\n",
        "\n",
        "print(x > 5 and y < 20)   # True\n",
        "print(x > 10 or y < 15)   # True\n",
        "print(not(x > y))         # True"
      ],
      "metadata": {
        "id": "PWaWTATGD2lS"
      },
      "execution_count": null,
      "outputs": []
    },
    {
      "cell_type": "markdown",
      "source": [
        "# 8. Conditionals (if/else Statements)\n",
        "\n",
        "Python allows us to make decisions in our code using **if/else statements**. This helps us execute different parts of the code depending on the conditions.\n",
        "\n",
        "### Syntax of if/else:\n",
        "```python\n",
        "if condition:\n",
        "    # Code to execute if condition is true\n",
        "else:\n",
        "    # Code to execute if condition is false\n",
        "```\n",
        "\n",
        "You can also use elif (short for “else if”) to check multiple conditions.\n",
        "\n",
        "**Example 1: Simple if/else**"
      ],
      "metadata": {
        "id": "5PkieK37EEwf"
      }
    },
    {
      "cell_type": "code",
      "source": [
        "age = 20 # you can change this value and see how the output changes according to the value entered\n",
        "\n",
        "if age >= 18:\n",
        "    print(\"You are an adult.\")\n",
        "else:\n",
        "    print(\"You are a minor.\")"
      ],
      "metadata": {
        "id": "u2c65xuvD-FY"
      },
      "execution_count": null,
      "outputs": []
    },
    {
      "cell_type": "markdown",
      "source": [
        "**Example 2: Using elif**"
      ],
      "metadata": {
        "id": "7zORLMInElAr"
      }
    },
    {
      "cell_type": "code",
      "source": [
        "score = 85 # explore changing this value as well\n",
        "\n",
        "if score >= 90:\n",
        "    print(\"You got an A!\")\n",
        "elif score >= 80:\n",
        "    print(\"You got a B.\")\n",
        "elif score >= 70:\n",
        "    print(\"You got a C.\")\n",
        "else:\n",
        "    print(\"You need to improve.\")"
      ],
      "metadata": {
        "id": "m2jXhPXxEoF2"
      },
      "execution_count": null,
      "outputs": []
    },
    {
      "cell_type": "markdown",
      "source": [
        "# 9. Loops (for and while)\n",
        "\n",
        "Loops allow us to repeat a block of code multiple times. Python provides two types of loops:\n",
        "\n",
        "1. **for loop** – Used to iterate over a sequence (like a list, tuple, or string).\n",
        "2. **while loop** – Repeats a block of code as long as a condition is true.\n",
        "\n",
        "\n"
      ],
      "metadata": {
        "id": "_o3J7brmJE-k"
      }
    },
    {
      "cell_type": "markdown",
      "source": [
        "### 9.1 For Loop\n",
        "The **for loop** iterates over a sequence (like a list or range) and executes the code block for each item.\n",
        "\n",
        "**Example:**"
      ],
      "metadata": {
        "id": "MBTXbW6NMfq2"
      }
    },
    {
      "cell_type": "code",
      "source": [
        "# Using a for loop to print numbers from 0 to 4\n",
        "for i in range(5):\n",
        "    print(\"This is iteration\", i + 1)"
      ],
      "metadata": {
        "id": "d6qErOquJJdQ"
      },
      "execution_count": null,
      "outputs": []
    },
    {
      "cell_type": "markdown",
      "source": [
        "Explanation:\n",
        "- range(5) generates numbers from 0 to 4.\n",
        "-The loop will run 5 times, printing the message each time.\n",
        "\n",
        "### 9.2 While Loop\n",
        "\n",
        "The while loop keeps executing as long as the condition is True.\n",
        "\n",
        "**Example:**"
      ],
      "metadata": {
        "id": "l96Di5RxJRsP"
      }
    },
    {
      "cell_type": "code",
      "source": [
        "# Using a while loop to count down from 5 to 1\n",
        "count = 5\n",
        "\n",
        "while count > 0:\n",
        "    print(\"Countdown:\", count)\n",
        "    count -= 1  # Decrease count by 1 in each iteration"
      ],
      "metadata": {
        "id": "DGGPpe0EJbSF"
      },
      "execution_count": null,
      "outputs": []
    },
    {
      "cell_type": "markdown",
      "source": [
        "Explanation:\n",
        "- The loop starts with count = 5.\n",
        "- It keeps running until count is no longer greater than 0."
      ],
      "metadata": {
        "id": "q9ThvP6RJf_C"
      }
    },
    {
      "cell_type": "markdown",
      "source": [
        "# Final Challenge: Test Your Python Knowledge!\n",
        "\n",
        "Now that you've learned some basics of Python, let's put your skills to the test! Complete the following challenges in your notebook to solidify your understanding.\n",
        "\n",
        "\n",
        "\n",
        "\n"
      ],
      "metadata": {
        "id": "6QT7ZzE3MwDs"
      }
    },
    {
      "cell_type": "markdown",
      "source": [
        "\n",
        "\n",
        "#### Challenge 1: Variables and Printing\n",
        "* What happens if you try to print a variable that hasn't been defined?  \n",
        "  - **Example:**  \n",
        "    ```python\n",
        "    print(num3)\n",
        "    ```\n",
        "  - Why do you get an error? Explain the reason in a comment.\n",
        "\n",
        "* Modify the following line to display a message with **two variables** inside the `print()` statement using **f-strings**:  \n",
        "    ```python\n",
        "    name = \"Sabrina\"\n",
        "    age = 6\n",
        "    print(\"My name is ____ and I am ____ years old.\")\n",
        "    ```"
      ],
      "metadata": {
        "id": "6KDXbDTBXIWr"
      }
    },
    {
      "cell_type": "code",
      "source": [],
      "metadata": {
        "id": "tBRo6QOWMvre"
      },
      "execution_count": null,
      "outputs": []
    },
    {
      "cell_type": "markdown",
      "source": [
        "\n",
        "#### Challenge 2: Conditionals\n",
        "* Write a program that defines a **temperature** variable (in degrees Celsius) and prints one of the following messages based on its value:\n",
        "\n",
        "1. **If the temperature is 30 or higher:** Print \"It's hot outside. Stay hydrated!\"\n",
        "2. **If the temperature is between 15 and 29:** Print \"The weather is nice today.\"\n",
        "3. **If the temperature is below 15:** Print \"It's cold outside. Wear a jacket.\"\n",
        "\n",
        "\n"
      ],
      "metadata": {
        "id": "g0UWTb0ROl-t"
      }
    },
    {
      "cell_type": "code",
      "source": [],
      "metadata": {
        "id": "jU0CfId_OnvC"
      },
      "execution_count": null,
      "outputs": []
    },
    {
      "cell_type": "markdown",
      "source": [
        "\n",
        "#### Challenge 3: Loops\n",
        "* Use a **for loop** to print the numbers from 1 to 10.\n",
        "\n",
        "* Use a **while loop** to count down from 5 to 1 and then print \"Blast off!\"  \n",
        "  - **Hint:** Make sure to update your counter inside the loop to avoid an infinite loop!\n",
        "\n",
        "\n"
      ],
      "metadata": {
        "id": "PvdbBsmTOoC7"
      }
    },
    {
      "cell_type": "code",
      "source": [],
      "metadata": {
        "id": "NbizNJsQOp95"
      },
      "execution_count": null,
      "outputs": []
    },
    {
      "cell_type": "markdown",
      "source": [
        "\n",
        "#### Challenge 4: Putting It All Together\n",
        "* Create a program that asks the user for **two numbers**, adds them together, and displays the result in the following format:  \n",
        "    - **Example Output:** \"The sum of 4 and 5 is 9.\"\n",
        "\n",
        "* Bonus: Modify your program to also display the difference, product, and quotient of the two numbers.\n",
        "\n",
        "\n",
        "\n"
      ],
      "metadata": {
        "id": "il63zqczOqZ-"
      }
    },
    {
      "cell_type": "code",
      "source": [],
      "metadata": {
        "id": "XH5ymAX0Oskj"
      },
      "execution_count": null,
      "outputs": []
    },
    {
      "cell_type": "markdown",
      "source": [
        "If you want more practice on these topics and would like to watch a crash course on Python, including a few additional topics that may be useful, you can check out this video: [Python Crash Course](https://www.youtube.com/watch?v=fWjsdhR3z3c).\n",
        "\n",
        "**NOTE:** This notebook and the video are not meant to make you a master of Python in a week, but to give you a solid foundation and a basic understanding of how to work with Python. You will continue to learn and develop your skills as we progress through the class.\n",
        "\n",
        "Good luck, and remember: **practice makes perfect!** 😊"
      ],
      "metadata": {
        "id": "EFovcC5zOr4h"
      }
    }
  ]
}